{
 "cells": [
  {
   "cell_type": "markdown",
   "metadata": {},
   "source": [
    "---\n",
    "## [ 파이썬 기초 코딩테스트 ]\n",
    "---\n",
    "과정명   : Python 기초특강\n",
    "&nbsp;&nbsp;&nbsp;훈련기간 : 2022.01.17 ~ 2022.01.19  \n",
    "교과목   : Python 기초특강\n",
    "&nbsp;&nbsp;&nbsp;교/강사  : 정용관   \n",
    "\n",
    "#### __학습자명__ : 조미연 &nbsp;&nbsp;&nbsp;&nbsp;&nbsp; __점수__ : 100\n",
    "---"
   ]
  },
  {
   "cell_type": "markdown",
   "metadata": {},
   "source": [
    "> .  \n",
    "> __문제 01)__\n",
    "> ``` py\n",
    "> \"Hello world\" 문자열을 출력하는 실행문을 작성하시오.(5점)\n",
    "> ``` \n",
    "> .  "
   ]
  },
  {
   "cell_type": "code",
   "execution_count": 1,
   "metadata": {},
   "outputs": [
    {
     "name": "stdout",
     "output_type": "stream",
     "text": [
      "Hello world\n"
     ]
    }
   ],
   "source": [
    "print(\"Hello world\")"
   ]
  },
  {
   "cell_type": "markdown",
   "metadata": {},
   "source": [
    "---"
   ]
  },
  {
   "cell_type": "markdown",
   "metadata": {},
   "source": [
    "> .  \n",
    "> __문제 02)__\n",
    "> ``` py\n",
    "> 다음 코드의 구문 오류(SyntaxError) 원인을 찾아 바르게 수정하시오.(5점)\n",
    ">     \n",
    "> int score = 60;\n",
    "> if (score >= 60){\n",
    "> print(\"합격입니다.\")}\n",
    "> else\n",
    "> print(\"불합격입니다.\")\n",
    "> ```\n",
    "> .  "
   ]
  },
  {
   "cell_type": "code",
   "execution_count": 1,
   "metadata": {},
   "outputs": [
    {
     "name": "stdout",
     "output_type": "stream",
     "text": [
      "합격입니다.\n"
     ]
    }
   ],
   "source": [
    "score = 60\n",
    "if score >= 60 :\n",
    "    print(\"합격입니다.\")\n",
    "else :\n",
    "    print(\"불합격입니다.\")\n",
    "\n"
   ]
  },
  {
   "cell_type": "code",
   "execution_count": 1,
   "metadata": {},
   "outputs": [
    {
     "name": "stdout",
     "output_type": "stream",
     "text": [
      "1,2,3\n"
     ]
    }
   ],
   "source": [
    "# 파이썬에서 ;를 쓰는 경우가 있는데\n",
    "a = 1; b = 2; c = 3\n",
    "# 한줄로 쓰고 싶을 때 사용가능하다. \n",
    "print(a, b, c, sep = ',')"
   ]
  },
  {
   "cell_type": "markdown",
   "metadata": {},
   "source": [
    "---"
   ]
  },
  {
   "cell_type": "markdown",
   "metadata": {},
   "source": [
    "> .  \n",
    "> __문제 03)__\n",
    "> ``` py\n",
    "> 아래의 코드에서 변수에 데이터(값)를 할당하고, 변수 이름으로 데이터 타입을 확인하고자 한다.\n",
    "> 코드를 완성하시오.(5점)    \n",
    ">\n",
    "> value = 123   \n",
    "> print(?)      \n",
    ">\n",
    "> [실행결과]   \n",
    "> <class 'int'>\n",
    "> ```\n",
    "> .  "
   ]
  },
  {
   "cell_type": "code",
   "execution_count": 4,
   "metadata": {},
   "outputs": [
    {
     "name": "stdout",
     "output_type": "stream",
     "text": [
      "<class 'int'>\n"
     ]
    }
   ],
   "source": [
    "value = 123\n",
    "print(type(value))"
   ]
  },
  {
   "cell_type": "markdown",
   "metadata": {},
   "source": [
    "---"
   ]
  },
  {
   "cell_type": "markdown",
   "metadata": {},
   "source": [
    "> .  \n",
    "> __문제 04)__   \n",
    "> ``` py\n",
    "> 다음 코드를 실행했을 때 출력 결과가 '2021/12/28 11:43:59'로 나오도록   \n",
    "> 아래의 print()문을 완성하시오.(5점)     \n",
    ">\n",
    "> year = 2021; month = 12; day = 28;    \n",
    "> hour = 11; min = 43; sec = 59   \n",
    "> \n",
    "> print(year, month, day, sep=?, end=?)   \n",
    "> print(hour, min, sec, sep=?)   \n",
    "> ```\n",
    "> .  "
   ]
  },
  {
   "cell_type": "code",
   "execution_count": 5,
   "metadata": {},
   "outputs": [
    {
     "name": "stdout",
     "output_type": "stream",
     "text": [
      "2021/12/28 11:43:59\n"
     ]
    }
   ],
   "source": [
    "year = 2021; month = 12; day = 28; hour = 11; min = 43; sec = 59\n",
    "\n",
    "# print(year, month, day, sep= , end= )\n",
    "# print(hour, min, sec, sep= )\n",
    "\n",
    "# 키워드 인수\n",
    "print(year, month, day, sep='/', end=' ')\n",
    "print(hour, min, sec, sep=':')"
   ]
  },
  {
   "cell_type": "markdown",
   "metadata": {},
   "source": [
    "---"
   ]
  },
  {
   "cell_type": "markdown",
   "metadata": {},
   "source": [
    "> .  \n",
    "> __문제 05)__     \n",
    "> ``` py\n",
    "> num(정수)이 홀수인지 짝수인지 판별하는 코드를 완성하시오.(5점)   \n",
    ">\n",
    "> num = 23721499387  \n",
    "> if ??? :  \n",
    ">     print(\"짝수\")  \n",
    "> else:  \n",
    ">     print(\"홀수\")  \n",
    "> ```  \n",
    "> .  "
   ]
  },
  {
   "cell_type": "code",
   "execution_count": 2,
   "metadata": {},
   "outputs": [
    {
     "name": "stdout",
     "output_type": "stream",
     "text": [
      "홀수\n"
     ]
    }
   ],
   "source": [
    "num = 23721499387\n",
    "# if ??? :\n",
    "#     print(\"짝수\")\n",
    "# else:\n",
    "#     print(\"홀수\")\n",
    "\n",
    "if num % 2 == 0 :\n",
    "    print(\"짝수\")\n",
    "else :\n",
    "    print(\"홀수\")"
   ]
  },
  {
   "cell_type": "markdown",
   "metadata": {},
   "source": [
    "---"
   ]
  },
  {
   "cell_type": "markdown",
   "metadata": {},
   "source": [
    "> .  \n",
    "> __문제 06)__ \n",
    "> ``` py\n",
    "> \"Hello world\" 문자열을 10번 출력하기 위한 while, for 반복문을 완성하시오.(10점)\n",
    "> ```\n",
    "> .  "
   ]
  },
  {
   "cell_type": "code",
   "execution_count": 8,
   "metadata": {},
   "outputs": [
    {
     "name": "stdout",
     "output_type": "stream",
     "text": [
      "Hello world 1\n",
      "Hello world 2\n",
      "Hello world 3\n",
      "Hello world 4\n",
      "Hello world 5\n",
      "Hello world 6\n",
      "Hello world 7\n",
      "Hello world 8\n",
      "Hello world 9\n",
      "Hello world 10\n"
     ]
    }
   ],
   "source": []
  },
  {
   "cell_type": "code",
   "execution_count": 9,
   "metadata": {},
   "outputs": [
    {
     "name": "stdout",
     "output_type": "stream",
     "text": [
      "Hello world\n",
      "Hello world\n",
      "Hello world\n",
      "Hello world\n",
      "Hello world\n",
      "Hello world\n",
      "Hello world\n",
      "Hello world\n",
      "Hello world\n",
      "Hello world\n"
     ]
    }
   ],
   "source": [
    "# while 반복문\n",
    "i = 1\n",
    "\n",
    "while i <= 10 :\n",
    "    print(\"Hello world\")\n",
    "    i += 1 # 복합대입 연산자.\n",
    "\n",
    "\n",
    "# while True :\n",
    "#     if i > 10 : \n",
    "#         break\n",
    "#     print(\"Hello world\", i)\n",
    "#     i += 1"
   ]
  },
  {
   "cell_type": "code",
   "execution_count": 5,
   "metadata": {},
   "outputs": [
    {
     "name": "stdout",
     "output_type": "stream",
     "text": [
      "Hello World\n",
      "Hello World\n",
      "Hello World\n",
      "Hello World\n",
      "Hello World\n",
      "Hello World\n",
      "Hello World\n",
      "Hello World\n",
      "Hello World\n",
      "Hello World\n"
     ]
    }
   ],
   "source": [
    "# for 반복문\n",
    "for i in range(10):\n",
    "    print(\"Hello World\")"
   ]
  },
  {
   "cell_type": "markdown",
   "metadata": {},
   "source": [
    "---"
   ]
  },
  {
   "cell_type": "markdown",
   "metadata": {},
   "source": [
    "> .  \n",
    "> __문제 07)__\n",
    "> ``` py\n",
    "> 정수 세 개를 입력받아 변수 a, b, c에 각각 저장한 후   \n",
    "> 세 정수의 합이 출력되도록 하는 프로그램을 작성하시오.(10점)  \n",
    "> ```\n",
    "> .  "
   ]
  },
  {
   "cell_type": "code",
   "execution_count": 4,
   "metadata": {},
   "outputs": [
    {
     "name": "stdout",
     "output_type": "stream",
     "text": [
      "입력하신 정수의 합은 3 입니다.\n"
     ]
    }
   ],
   "source": [
    "a = input(\"첫번째 정수를 입력해주세요.: \")\n",
    "b = input(\"두번째 정수를 입력해주세요.: \")\n",
    "c = input(\"세번째 정수를 입력해주세요.: \")\n",
    "\n",
    "total = int(a) + int(b) + int(c)\n",
    "print(\"입력하신 정수의 합은\", total ,\"입니다.\")"
   ]
  },
  {
   "cell_type": "code",
   "execution_count": 17,
   "metadata": {},
   "outputs": [
    {
     "name": "stdout",
     "output_type": "stream",
     "text": [
      "세 정수의 합은 30입니다.\n"
     ]
    }
   ],
   "source": [
    "# 정수를 한 번에 3개를 입력받는 풀이방법\n",
    "x, y, z = map(int ,input(\"정수를 연속해서 3개를 입력하세요. :\").split(\" \"))\n",
    "# map(int, ***)으로 int 값으로 변경해주고, .split(\" \") 으로 공백으로 숫자를 구분한다.\n",
    "# ex> 10 20 30 이라고 입력하면 10, 20, 30으로 인식한다.\n",
    "print(\"세 정수의 합은 {}입니다.\".format(x+y+z))\n"
   ]
  },
  {
   "cell_type": "markdown",
   "metadata": {},
   "source": [
    "---"
   ]
  },
  {
   "cell_type": "markdown",
   "metadata": {},
   "source": [
    "> .    \n",
    "> __문제 08)__\n",
    "> ``` py   \n",
    "> 철수의 국어, 영어, 수학, 과학 점수를 입력받아 한 과목이라도 50점 미만이면 불합격 처리 하고자 한다.   \n",
    "> 다음 소스 코드를 완성하여 합격이면 True, 불합격이면 False 가 출력되도록 하시오.(10점)   \n",
    ">      \n",
    "> korean = 92\n",
    "> english = 47\n",
    "> mathematics = 86\n",
    "> science = 81    \n",
    ">   \n",
    "> print( ??? )   \n",
    ">    \n",
    "> [실행결과]   \n",
    "> False   \n",
    "> ```   \n",
    "> .   "
   ]
  },
  {
   "cell_type": "code",
   "execution_count": 2,
   "metadata": {},
   "outputs": [
    {
     "name": "stdout",
     "output_type": "stream",
     "text": [
      "False\n"
     ]
    }
   ],
   "source": [
    "korean  = 92\n",
    "english = 47\n",
    "mathematics = 86\n",
    "science = 81\n",
    "\n",
    "# print()\n",
    "\n",
    "if korean < 50 or english < 50 or mathematics < 50 or science < 50  :\n",
    "    print(\"False\")\n",
    "else :\n",
    "    print(\"True\")"
   ]
  },
  {
   "cell_type": "markdown",
   "metadata": {},
   "source": [
    "---"
   ]
  },
  {
   "cell_type": "markdown",
   "metadata": {},
   "source": [
    "> .   \n",
    "> __문제 09)__\n",
    "> ``` py\n",
    "> 사용자로부터 문자열을 입력받아 각 문자의 아스키 코드에 5를 더하여    \n",
    "> 암호화된 문자열을 출력하는 프로그램을 작성하시오.   \n",
    "> 단, 함수 ord()와 chr()을 활용하시오.(15점)   \n",
    ">         \n",
    "> [실행결과]   \n",
    "> 문자열을 입력하시오: Python # 사용자가 입력한 문자열   \n",
    "> 암호화된 문자열은 U~ymts   \n",
    "> ```\n",
    "> .    "
   ]
  },
  {
   "cell_type": "code",
   "execution_count": 41,
   "metadata": {},
   "outputs": [
    {
     "ename": "TypeError",
     "evalue": "ord() expected a character, but string of length 6 found",
     "output_type": "error",
     "traceback": [
      "\u001b[1;31m---------------------------------------------------------------------------\u001b[0m",
      "\u001b[1;31mTypeError\u001b[0m                                 Traceback (most recent call last)",
      "Input \u001b[1;32mIn [41]\u001b[0m, in \u001b[0;36m<module>\u001b[1;34m\u001b[0m\n\u001b[0;32m      1\u001b[0m msg \u001b[38;5;241m=\u001b[39m \u001b[38;5;28minput\u001b[39m(\u001b[38;5;124m\"\u001b[39m\u001b[38;5;124m문자열을 입력하시오. :\u001b[39m\u001b[38;5;124m\"\u001b[39m)\n\u001b[1;32m----> 2\u001b[0m msg2 \u001b[38;5;241m=\u001b[39m \u001b[38;5;28;43mord\u001b[39;49m\u001b[43m(\u001b[49m\u001b[43mmsg\u001b[49m\u001b[43m)\u001b[49m \u001b[38;5;241m+\u001b[39m \u001b[38;5;241m5\u001b[39m\n\u001b[0;32m      3\u001b[0m \u001b[38;5;28mprint\u001b[39m(msg2)\n\u001b[0;32m      4\u001b[0m \u001b[38;5;28mprint\u001b[39m(\u001b[38;5;28mchr\u001b[39m(msg2))\n",
      "\u001b[1;31mTypeError\u001b[0m: ord() expected a character, but string of length 6 found"
     ]
    }
   ],
   "source": [
    "msg = input(\"문자열을 입력하시오. :\")\n",
    "msg2 = ord(msg) + 5\n",
    "print(msg2)\n",
    "print(chr(msg2))\n",
    "\n",
    "## 안됨"
   ]
  },
  {
   "cell_type": "code",
   "execution_count": 24,
   "metadata": {},
   "outputs": [
    {
     "name": "stdout",
     "output_type": "stream",
     "text": [
      "암호화된 문자열은 욮\n"
     ]
    }
   ],
   "source": [
    "message = input(\"문자열을 입력하시오. :\") # \"Python\"\n",
    "\n",
    "enc_word = \"\"\n",
    "\n",
    "for c in message:\n",
    "    enc_word += chr(ord(c) + 5)\n",
    "\n",
    "print(f\"암호화된 문자열은 {enc_word}\")\n"
   ]
  },
  {
   "cell_type": "markdown",
   "metadata": {},
   "source": [
    "---"
   ]
  },
  {
   "cell_type": "markdown",
   "metadata": {},
   "source": [
    "> .   \n",
    "> __문제 10)__    \n",
    "> ``` py  \n",
    "> 사용자로부터 초 단위 시간을 입력받아 몇 시, 몇 분, 몇 초 인지를 계산하는 프로그램을 작성하시오.    \n",
    "> 단, 아래의 주어진 함수를 완성하여 작성할 것.(15점)    \n",
    ">      \n",
    "> def get_hms(secs):   \n",
    ">     hours = ???   \n",
    ">     mins  = ???   \n",
    ">     secs  = ???   \n",
    ">     print('시간은 %02d:%02d:%02d' % (hours, mins, secs))\n",
    ">        \n",
    "> [실행결과]   \n",
    "> 초(sec)를 입력하시오: 12080 # 사용자가 입력한 수   \n",
    "> 시간은 03:21:20   \n",
    "> ```\n",
    "> .   "
   ]
  },
  {
   "cell_type": "code",
   "execution_count": 25,
   "metadata": {},
   "outputs": [
    {
     "ename": "NameError",
     "evalue": "name 'hours' is not defined",
     "output_type": "error",
     "traceback": [
      "\u001b[1;31m---------------------------------------------------------------------------\u001b[0m",
      "\u001b[1;31mNameError\u001b[0m                                 Traceback (most recent call last)",
      "Input \u001b[1;32mIn [25]\u001b[0m, in \u001b[0;36m<module>\u001b[1;34m\u001b[0m\n\u001b[0;32m      6\u001b[0m     mins  \u001b[38;5;241m=\u001b[39m sec \u001b[38;5;241m%\u001b[39m \u001b[38;5;241m3600\u001b[39m \u001b[38;5;241m/\u001b[39m \u001b[38;5;241m60\u001b[39m\n\u001b[0;32m      7\u001b[0m     secs  \u001b[38;5;241m=\u001b[39m sec \u001b[38;5;241m%\u001b[39m \u001b[38;5;241m3600\u001b[39m \u001b[38;5;241m%\u001b[39m \u001b[38;5;241m60\u001b[39m\n\u001b[1;32m----> 9\u001b[0m \u001b[38;5;28mprint\u001b[39m(\u001b[38;5;124m'\u001b[39m\u001b[38;5;124m시간은 \u001b[39m\u001b[38;5;132;01m%02d\u001b[39;00m\u001b[38;5;124m:\u001b[39m\u001b[38;5;132;01m%02d\u001b[39;00m\u001b[38;5;124m:\u001b[39m\u001b[38;5;132;01m%02d\u001b[39;00m\u001b[38;5;124m'\u001b[39m \u001b[38;5;241m%\u001b[39m (\u001b[43mhours\u001b[49m, mins, secs))\n",
      "\u001b[1;31mNameError\u001b[0m: name 'hours' is not defined"
     ]
    }
   ],
   "source": [
    "# ??? 에는 수식이 들어가야함. % 사용할 것.\n",
    "sec = int(input(\"초(sec)를 입력하시요 :\"))\n",
    "\n",
    "def get_hms(secs):   \n",
    "    hours = sec / 3600\n",
    "    mins  = sec % 3600 / 60\n",
    "    secs  = sec % 3600 % 60\n",
    "    print('시간은 %02d:%02d:%02d' % (hours, mins, secs))\n",
    "\n",
    "# 안됨"
   ]
  },
  {
   "cell_type": "code",
   "execution_count": 28,
   "metadata": {},
   "outputs": [
    {
     "name": "stdout",
     "output_type": "stream",
     "text": [
      "시간은 03:21:20\n"
     ]
    }
   ],
   "source": [
    "\n",
    "\n",
    "def get_hms(secs):   \n",
    "    hours = secs // 3600\n",
    "    mins  = (secs % 3600) // 60\n",
    "    secs  = secs % 60\n",
    "    print('시간은 %02d:%02d:%02d' % (hours, mins, secs))\n",
    "\n",
    "secs = int(input(\"초(sec)를 입력하시요 :\"))\n",
    "get_hms(secs)   \n"
   ]
  },
  {
   "cell_type": "markdown",
   "metadata": {},
   "source": [
    "> .   \n",
    "> __문제 11)__\n",
    "> ``` py\n",
    "> 백화점에서 한달 동안 이벤트를 진행한다. 제품을 구매한 고객들에게    \n",
    "> 성별, 나이별로 적립 금액을 다르게 지급할 예정이다.   \n",
    "> 다음의 요구사항을 만족하는 프로그램을 작성하시오.(15점)\n",
    ">          \n",
    "> <요구사항>   \n",
    "> 1. 남자는 나이에 상관없이 구매 금액의 3% 적립   \n",
    "> 2. 여자는 20대 미만인 경우 금액의 1.5%, 20대는 3%,    \n",
    ">    30대는 4.5%, 40대 이상은 6% 적립         \n",
    ">       \n",
    "> [실행결과]   \n",
    "> 성별을 입력하세요(여자:F, 남자:M, 종료:Q 또는 q): M   \n",
    "> 나이를 입력하세요: 25   \n",
    "> 제품의 총 구매액을 입력하세요: 10000   \n",
    "> 당신의 적립 금액은 300.00 원입니다.     \n",
    ">          \n",
    "> 성별을 입력하세요(여자:F, 남자:M, 종료:Q 또는 q): F   \n",
    "> 나이를 입력하세요: 10   \n",
    "> 제품의 총 구매액을 입력하세요: 10000   \n",
    "> 당신의 적립 금액은 150.00 원입니다.  \n",
    ">      \n",
    "> 성별을 입력하세요(여자:F, 남자:M, 종료:Q 또는 q): t   \n",
    "> 잘못입력하셨습니다.   \n",
    ">      \n",
    "> 성별을 입력하세요(여자:F, 남자:M, 종료:Q 또는 q): q   \n",
    "> 프로그램을 종료합니다.   \n",
    "> ```   \n",
    "> .      "
   ]
  },
  {
   "cell_type": "code",
   "execution_count": 36,
   "metadata": {},
   "outputs": [
    {
     "name": "stdout",
     "output_type": "stream",
     "text": [
      "잘못입력하셨습니다.\n",
      "당신의 적립 금액은 300.0 원입니다.\n"
     ]
    }
   ],
   "source": [
    "def save_point(amount, rate): # (구매액, 적립률) \n",
    "    print(\"당신의 적립금액은 {}원입니다.\".format(amount * (rate / 100)))\n",
    "\n",
    "## 성별, 나이, 구매액, 적립금\n",
    "\n",
    "# 메뉴 입력받기.\n",
    "gender = input(\"성별을 입력하세요. (여자:F, 남자:M, 종료:Q 또는 q)\")\n",
    "# 종료할 경우\n",
    "if gender == 'q' or gender == 'Q':\n",
    "    print(\"프로그램을 종료합니다.\")\n",
    "# 메뉴를 잘못선택했을 경우\n",
    "if gender != \"F\" or gender != \"f\" or gender != \"M\" or gender != \"m\" :\n",
    "    print(\"잘못입력하셨습니다.\")\n",
    "# 나이, 구매액 입력받기\n",
    "age = int(input(\"나이를 입력하세요 : \"))\n",
    "buy = int(input(\"제품의 총 구매액을 입력하세요 : \"))\n",
    "\n",
    "# 남자일 경우 3%\n",
    "if gender == \"M\" or gender == \"m\" :\n",
    "    print(\"당신의 적립 금액은\", buy * 0.03 ,\"원입니다.\")\n",
    "    \n",
    " # 20대 미만 여성 1.5% , 30대 여성 4.5%, 40대이상 여성 6%\n",
    "if gender == \"F\" or gender == \"f\":\n",
    "   if age < 20: \n",
    "       print(\"당신의 적립 금액은\", buy * 0.015 ,\"원입니다.\")\n",
    "   elif age < 40 :\n",
    "         print(\"당신의 적립 금액은\", buy * 0.045 ,\"원입니다.\")\n",
    "   elif 39 < age :\n",
    "        print(\"당신의 적립 금액은\", buy * 0.06 ,\"원입니다.\")\n"
   ]
  },
  {
   "cell_type": "code",
   "execution_count": 32,
   "metadata": {},
   "outputs": [
    {
     "name": "stdout",
     "output_type": "stream",
     "text": [
      "당신의 적립금액은 300.0원입니다.\n"
     ]
    },
    {
     "ename": "KeyboardInterrupt",
     "evalue": "Interrupted by user",
     "output_type": "error",
     "traceback": [
      "\u001b[1;31m---------------------------------------------------------------------------\u001b[0m",
      "\u001b[1;31mKeyboardInterrupt\u001b[0m                         Traceback (most recent call last)",
      "Input \u001b[1;32mIn [32]\u001b[0m, in \u001b[0;36m<module>\u001b[1;34m\u001b[0m\n\u001b[0;32m      2\u001b[0m     \u001b[38;5;28mprint\u001b[39m(\u001b[38;5;124m\"\u001b[39m\u001b[38;5;124m당신의 적립금액은 \u001b[39m\u001b[38;5;132;01m{}\u001b[39;00m\u001b[38;5;124m원입니다.\u001b[39m\u001b[38;5;124m\"\u001b[39m\u001b[38;5;241m.\u001b[39mformat(amount \u001b[38;5;241m*\u001b[39m (rate \u001b[38;5;241m/\u001b[39m \u001b[38;5;241m100\u001b[39m)))\n\u001b[0;32m      4\u001b[0m \u001b[38;5;28;01mwhile\u001b[39;00m \u001b[38;5;28;01mTrue\u001b[39;00m :\n\u001b[1;32m----> 5\u001b[0m     gender \u001b[38;5;241m=\u001b[39m \u001b[38;5;28;43minput\u001b[39;49m\u001b[43m(\u001b[49m\u001b[38;5;124;43m\"\u001b[39;49m\u001b[38;5;124;43m성별을 입력하세요. (여자:F, 남자:M, 종료:Q 또는 q): \u001b[39;49m\u001b[38;5;124;43m\"\u001b[39;49m\u001b[43m)\u001b[49m\n\u001b[0;32m      6\u001b[0m     \u001b[38;5;28;01mif\u001b[39;00m gender \u001b[38;5;129;01min\u001b[39;00m [\u001b[38;5;124m'\u001b[39m\u001b[38;5;124mq\u001b[39m\u001b[38;5;124m'\u001b[39m, \u001b[38;5;124m'\u001b[39m\u001b[38;5;124mQ\u001b[39m\u001b[38;5;124m'\u001b[39m] : \n\u001b[0;32m      7\u001b[0m         \u001b[38;5;28mprint\u001b[39m(\u001b[38;5;124m\"\u001b[39m\u001b[38;5;124m프로그램을 종료합니다.\u001b[39m\u001b[38;5;124m\"\u001b[39m)\n",
      "File \u001b[1;32m~\\AppData\\Local\\Programs\\Python\\Python310\\lib\\site-packages\\ipykernel\\kernelbase.py:1044\u001b[0m, in \u001b[0;36mKernel.raw_input\u001b[1;34m(self, prompt)\u001b[0m\n\u001b[0;32m   1040\u001b[0m \u001b[38;5;28;01mif\u001b[39;00m \u001b[38;5;129;01mnot\u001b[39;00m \u001b[38;5;28mself\u001b[39m\u001b[38;5;241m.\u001b[39m_allow_stdin:\n\u001b[0;32m   1041\u001b[0m     \u001b[38;5;28;01mraise\u001b[39;00m StdinNotImplementedError(\n\u001b[0;32m   1042\u001b[0m         \u001b[38;5;124m\"\u001b[39m\u001b[38;5;124mraw_input was called, but this frontend does not support input requests.\u001b[39m\u001b[38;5;124m\"\u001b[39m\n\u001b[0;32m   1043\u001b[0m     )\n\u001b[1;32m-> 1044\u001b[0m \u001b[38;5;28;01mreturn\u001b[39;00m \u001b[38;5;28;43mself\u001b[39;49m\u001b[38;5;241;43m.\u001b[39;49m\u001b[43m_input_request\u001b[49m\u001b[43m(\u001b[49m\n\u001b[0;32m   1045\u001b[0m \u001b[43m    \u001b[49m\u001b[38;5;28;43mstr\u001b[39;49m\u001b[43m(\u001b[49m\u001b[43mprompt\u001b[49m\u001b[43m)\u001b[49m\u001b[43m,\u001b[49m\n\u001b[0;32m   1046\u001b[0m \u001b[43m    \u001b[49m\u001b[38;5;28;43mself\u001b[39;49m\u001b[38;5;241;43m.\u001b[39;49m\u001b[43m_parent_ident\u001b[49m\u001b[43m[\u001b[49m\u001b[38;5;124;43m\"\u001b[39;49m\u001b[38;5;124;43mshell\u001b[39;49m\u001b[38;5;124;43m\"\u001b[39;49m\u001b[43m]\u001b[49m\u001b[43m,\u001b[49m\n\u001b[0;32m   1047\u001b[0m \u001b[43m    \u001b[49m\u001b[38;5;28;43mself\u001b[39;49m\u001b[38;5;241;43m.\u001b[39;49m\u001b[43mget_parent\u001b[49m\u001b[43m(\u001b[49m\u001b[38;5;124;43m\"\u001b[39;49m\u001b[38;5;124;43mshell\u001b[39;49m\u001b[38;5;124;43m\"\u001b[39;49m\u001b[43m)\u001b[49m\u001b[43m,\u001b[49m\n\u001b[0;32m   1048\u001b[0m \u001b[43m    \u001b[49m\u001b[43mpassword\u001b[49m\u001b[38;5;241;43m=\u001b[39;49m\u001b[38;5;28;43;01mFalse\u001b[39;49;00m\u001b[43m,\u001b[49m\n\u001b[0;32m   1049\u001b[0m \u001b[43m\u001b[49m\u001b[43m)\u001b[49m\n",
      "File \u001b[1;32m~\\AppData\\Local\\Programs\\Python\\Python310\\lib\\site-packages\\ipykernel\\kernelbase.py:1089\u001b[0m, in \u001b[0;36mKernel._input_request\u001b[1;34m(self, prompt, ident, parent, password)\u001b[0m\n\u001b[0;32m   1086\u001b[0m             \u001b[38;5;28;01mbreak\u001b[39;00m\n\u001b[0;32m   1087\u001b[0m \u001b[38;5;28;01mexcept\u001b[39;00m \u001b[38;5;167;01mKeyboardInterrupt\u001b[39;00m:\n\u001b[0;32m   1088\u001b[0m     \u001b[38;5;66;03m# re-raise KeyboardInterrupt, to truncate traceback\u001b[39;00m\n\u001b[1;32m-> 1089\u001b[0m     \u001b[38;5;28;01mraise\u001b[39;00m \u001b[38;5;167;01mKeyboardInterrupt\u001b[39;00m(\u001b[38;5;124m\"\u001b[39m\u001b[38;5;124mInterrupted by user\u001b[39m\u001b[38;5;124m\"\u001b[39m) \u001b[38;5;28;01mfrom\u001b[39;00m \u001b[38;5;28mNone\u001b[39m\n\u001b[0;32m   1090\u001b[0m \u001b[38;5;28;01mexcept\u001b[39;00m \u001b[38;5;167;01mException\u001b[39;00m:\n\u001b[0;32m   1091\u001b[0m     \u001b[38;5;28mself\u001b[39m\u001b[38;5;241m.\u001b[39mlog\u001b[38;5;241m.\u001b[39mwarning(\u001b[38;5;124m\"\u001b[39m\u001b[38;5;124mInvalid Message:\u001b[39m\u001b[38;5;124m\"\u001b[39m, exc_info\u001b[38;5;241m=\u001b[39m\u001b[38;5;28;01mTrue\u001b[39;00m)\n",
      "\u001b[1;31mKeyboardInterrupt\u001b[0m: Interrupted by user"
     ]
    }
   ],
   "source": [
    "def save_point(amount, rate): # (구매액, 적립률) \n",
    "    print(\"당신의 적립금액은 {}원입니다.\".format(amount * (rate / 100)))\n",
    "\n",
    "while True :\n",
    "    gender = input(\"성별을 입력하세요. (여자:F, 남자:M, 종료:Q 또는 q): \")\n",
    "    if gender in ['q', 'Q'] : \n",
    "        print(\"프로그램을 종료합니다.\")\n",
    "        break\n",
    "    if gender not in ['F', 'M'] : ## 유효성 검사\n",
    "        print(\"잘못입력하셨습니다.\")\n",
    "        continue ## 다시 while문이 실행된다.\n",
    "    \n",
    "    # while True:\n",
    "    age = int(input(\"나이를 입력하세요.\"))\n",
    "    amount = int(input(\"제품의 총 구매액을 입력하세요.\"))\n",
    "\n",
    "    if gender == 'M':\n",
    "        rate = 3\n",
    "    elif gender == 'F':\n",
    "        if age >= 40: rate = 6\n",
    "        elif age >= 30 : rate = 4.5\n",
    "        elif age >= 20 : rate = 3\n",
    "        else : rate = 1.5\n",
    "\n",
    "\n",
    "    save_point(amount, rate)\n",
    "    print()\n",
    "    "
   ]
  },
  {
   "cell_type": "markdown",
   "metadata": {},
   "source": [
    "#       \n",
    "#      \n",
    "#### 수고하셨습니다."
   ]
  },
  {
   "cell_type": "markdown",
   "metadata": {},
   "source": [
    "---\n",
    "## 점수 : \n",
    "---"
   ]
  }
 ],
 "metadata": {
  "interpreter": {
   "hash": "4aa7a001941c8b447200068b1d71a3924cf04f02fe096f0aa27a7230a4a7f943"
  },
  "kernelspec": {
   "display_name": "Python 3.10.1 64-bit",
   "language": "python",
   "name": "python3"
  },
  "language_info": {
   "codemirror_mode": {
    "name": "ipython",
    "version": 3
   },
   "file_extension": ".py",
   "mimetype": "text/x-python",
   "name": "python",
   "nbconvert_exporter": "python",
   "pygments_lexer": "ipython3",
   "version": "3.10.1"
  },
  "orig_nbformat": 4
 },
 "nbformat": 4,
 "nbformat_minor": 2
}
