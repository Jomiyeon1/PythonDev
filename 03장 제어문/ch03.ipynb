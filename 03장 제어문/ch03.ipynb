{
 "cells": [
  {
   "cell_type": "markdown",
   "metadata": {},
   "source": [
    "#### 점프투파이썬\n",
    "---\n",
    "03장 연습문제"
   ]
  },
  {
   "cell_type": "markdown",
   "metadata": {},
   "source": [
    "> Q1\n",
    "``` py\n",
    "    다음 코드의 결괏값은 무엇일까?\n",
    "\n",
    "    a = \"Life is too short, you need python\"\n",
    "\n",
    "    if \"wife\" in a: print(\"wife\")\n",
    "    elif \"python\" in a and \"you\" not in a: print(\"python\")\n",
    "    elif \"shirt\" not in a: print(\"shirt\")\n",
    "    elif \"need\" in a: print(\"need\")\n",
    "    else: print(\"none\")\n",
    "```"
   ]
  },
  {
   "cell_type": "code",
   "execution_count": 1,
   "metadata": {},
   "outputs": [
    {
     "name": "stdout",
     "output_type": "stream",
     "text": [
      "shirt\n"
     ]
    }
   ],
   "source": [
    "a = \"Life is too short, you need python\"\n",
    "\n",
    "if \"wife\" in a: \n",
    "    print(\"wife\")\n",
    "elif \"python\" in a and \"you\" not in a: \n",
    "    print(\"python\")\n",
    "elif \"shirt\" not in a: \n",
    "    print(\"shirt\")\n",
    "elif \"need\" in a: \n",
    "    print(\"need\")\n",
    "else: \n",
    "    print(\"none\")\n",
    "\n",
    "\n",
    "# shirt 출력\n",
    "# elif이기 때문에 need는 출력되지 않는다.\n",
    "# > 맨처음 참인 부분만 실행하고 구문을 빠져나온다.\n"
   ]
  },
  {
   "cell_type": "markdown",
   "metadata": {},
   "source": [
    "> Q2\n",
    "``` py\n",
    "    while문을 사용해 1부터 1000까지의 자연수 중 3의 배수의 합을 구해 보자.\n",
    "```"
   ]
  },
  {
   "cell_type": "code",
   "execution_count": 11,
   "metadata": {},
   "outputs": [
    {
     "name": "stdout",
     "output_type": "stream",
     "text": [
      "1~1000까지 3의 배수의 합은 166833 입니다.\n"
     ]
    }
   ],
   "source": [
    "\n",
    "li = list(range(1, 1000+1)) \n",
    "\n",
    "total = 0\n",
    "for i in li :\n",
    "    if i % 3 == 0:\n",
    "        total += i\n",
    "print(\"1~1000까지 3의 배수의 합은 {} 입니다.\".format(total))\n"
   ]
  },
  {
   "cell_type": "code",
   "execution_count": 20,
   "metadata": {},
   "outputs": [
    {
     "ename": "TypeError",
     "evalue": "'int' object is not callable",
     "output_type": "error",
     "traceback": [
      "\u001b[1;31m---------------------------------------------------------------------------\u001b[0m",
      "\u001b[1;31mTypeError\u001b[0m                                 Traceback (most recent call last)",
      "Input \u001b[1;32mIn [20]\u001b[0m, in \u001b[0;36m<module>\u001b[1;34m\u001b[0m\n\u001b[0;32m      1\u001b[0m \u001b[38;5;66;03m# 리스트 내포 [ i for ~ if~ ]\u001b[39;00m\n\u001b[0;32m      2\u001b[0m li \u001b[38;5;241m=\u001b[39m [i \u001b[38;5;28;01mfor\u001b[39;00m i \u001b[38;5;129;01min\u001b[39;00m \u001b[38;5;28mrange\u001b[39m(\u001b[38;5;241m1\u001b[39m, \u001b[38;5;241m1000\u001b[39m \u001b[38;5;241m+\u001b[39m \u001b[38;5;241m1\u001b[39m) \u001b[38;5;28;01mif\u001b[39;00m i \u001b[38;5;241m%\u001b[39m\u001b[38;5;241m3\u001b[39m \u001b[38;5;241m==\u001b[39m \u001b[38;5;241m0\u001b[39m]\n\u001b[1;32m----> 4\u001b[0m \u001b[38;5;28mprint\u001b[39m(\u001b[38;5;124mf\u001b[39m\u001b[38;5;124m\"\u001b[39m\u001b[38;5;124m1~1000까지 3의 배수의 합은 \u001b[39m\u001b[38;5;132;01m{\u001b[39;00m(\u001b[38;5;28msum\u001b[39m(li))\u001b[38;5;132;01m}\u001b[39;00m\u001b[38;5;124m 입니다.\u001b[39m\u001b[38;5;124m\"\u001b[39m)\n",
      "\u001b[1;31mTypeError\u001b[0m: 'int' object is not callable"
     ]
    }
   ],
   "source": [
    "# 리스트 내포 [ i for ~ if~ ]\n",
    "li = [i for i in range(1, 1000 + 1) if i %3 == 0]\n",
    "\n",
    "print(f\"1~1000까지 3의 배수의 합은 {(sum(li))} 입니다.\")\n"
   ]
  },
  {
   "cell_type": "code",
   "execution_count": 21,
   "metadata": {},
   "outputs": [
    {
     "name": "stdout",
     "output_type": "stream",
     "text": [
      "[1, 3, 5, 7, 9]\n"
     ]
    }
   ],
   "source": [
    "li = [i for i in range(1, 10+1) if i % 2 == 1 ]\n",
    "print(li)"
   ]
  },
  {
   "cell_type": "markdown",
   "metadata": {},
   "source": [
    "> Q3\n",
    "``` py\n",
    "    while문을 사용하여 다음과 같이 별(*)을 표시하는 프로그램을 작성해 보자.\n",
    "\n",
    "    *\n",
    "    **\n",
    "    ***\n",
    "    ****\n",
    "    *****\n",
    "```"
   ]
  },
  {
   "cell_type": "code",
   "execution_count": 25,
   "metadata": {},
   "outputs": [
    {
     "name": "stdout",
     "output_type": "stream",
     "text": [
      "*\n",
      "**\n",
      "***\n",
      "****\n",
      "*****\n"
     ]
    }
   ],
   "source": [
    "i = 0\n",
    "while i < 5:\n",
    "    print('*' * (i+1))\n",
    "    i += 1"
   ]
  },
  {
   "cell_type": "markdown",
   "metadata": {},
   "source": [
    "> Q4\n",
    "``` py\n",
    "    for문을 사용해 1부터 100까지의 숫자를 출력해 보자.\n",
    "```"
   ]
  },
  {
   "cell_type": "code",
   "execution_count": 30,
   "metadata": {},
   "outputs": [
    {
     "name": "stdout",
     "output_type": "stream",
     "text": [
      "1, 2, 3, 4, 5, 6, 7, 8, 9, 10, 11, 12, 13, 14, 15, 16, 17, 18, 19, 20, 21, 22, 23, 24, 25, 26, 27, 28, 29, 30, 31, 32, 33, 34, 35, 36, 37, 38, 39, 40, 41, 42, 43, 44, 45, 46, 47, 48, 49, 50, 51, 52, 53, 54, 55, 56, 57, 58, 59, 60, 61, 62, 63, 64, 65, 66, 67, 68, 69, 70, 71, 72, 73, 74, 75, 76, 77, 78, 79, 80, 81, 82, 83, 84, 85, 86, 87, 88, 89, 90, 91, 92, 93, 94, 95, 96, 97, 98, 99, 100, 010-0000-0000\n"
     ]
    }
   ],
   "source": [
    "for i in range(1, 100 + 1) : \n",
    "    print(i, end = ', ' )\n",
    "\n",
    "\n",
    "# print(\"010\",\"0000\",\"0000\", sep=\"-\")"
   ]
  },
  {
   "cell_type": "markdown",
   "metadata": {},
   "source": [
    "> Q5\n",
    "``` py\n",
    "    A 학급에 총 10명의 학생이 있다. 이 학생들의 중간고사 점수는 다음과 같다.\n",
    "    [70, 60, 55, 75, 95, 90, 80, 80, 85, 100]\n",
    "    for문을 사용하여 A 학급의 평균 점수를 구해 보자.\n",
    "```"
   ]
  },
  {
   "cell_type": "code",
   "execution_count": 36,
   "metadata": {},
   "outputs": [],
   "source": [
    "scores = [70, 60, 55, 75, 95, 90, 80, 80, 85, 100]\n",
    "# avg = sum(scores) / len(scores)\n",
    "# print(avg)\n",
    "total = 0\n",
    "for i in range(len(scores)): # i = 0 ~ 9\n",
    "    total += scores[i]\n",
    "\n",
    "for s in scores:\n",
    "    total += s\n",
    "    \n",
    "\n"
   ]
  },
  {
   "cell_type": "markdown",
   "metadata": {},
   "source": [
    "> Q6\n",
    "``` py\n",
    "    리스트 중에서 홀수에만 2를 곱하여 저장하는 다음 코드가 있다.\n",
    "\n",
    "    numbers = [1, 2, 3, 4, 5]\n",
    "    result = []\n",
    "    for n in numbers:\n",
    "        if n % 2 == 1:\n",
    "            result.append(n*2)\n",
    "    위 코드를 리스트 내포(list comprehension)를 사용하여 표현해 보자.\n",
    "```"
   ]
  },
  {
   "cell_type": "code",
   "execution_count": 41,
   "metadata": {},
   "outputs": [
    {
     "name": "stdout",
     "output_type": "stream",
     "text": [
      "result = [2, 6, 10]\n",
      "new_result = [2, 6, 10]\n"
     ]
    }
   ],
   "source": [
    "\n",
    "\n",
    "numbers = [1, 2, 3, 4, 5]\n",
    "result = []\n",
    "for n in numbers:\n",
    "    if n % 2 == 1:\n",
    "        result.append(n*2)\n",
    "print(\"result =\",result)\n",
    "\n",
    "new_result = [n*2 for n in numbers  if n % 2 == 1 ]\n",
    "print(\"new_result =\", new_result)"
   ]
  }
 ],
 "metadata": {
  "interpreter": {
   "hash": "4aa7a001941c8b447200068b1d71a3924cf04f02fe096f0aa27a7230a4a7f943"
  },
  "kernelspec": {
   "display_name": "Python 3.10.1 64-bit",
   "language": "python",
   "name": "python3"
  },
  "language_info": {
   "codemirror_mode": {
    "name": "ipython",
    "version": 3
   },
   "file_extension": ".py",
   "mimetype": "text/x-python",
   "name": "python",
   "nbconvert_exporter": "python",
   "pygments_lexer": "ipython3",
   "version": "3.10.1"
  },
  "orig_nbformat": 4
 },
 "nbformat": 4,
 "nbformat_minor": 2
}
