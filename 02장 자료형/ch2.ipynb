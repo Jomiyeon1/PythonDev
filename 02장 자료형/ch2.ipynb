{
 "cells": [
  {
   "cell_type": "markdown",
   "metadata": {},
   "source": [
    "##### 점프 투 파이썬\n",
    "---\n",
    "02장 연습문제"
   ]
  },
  {
   "cell_type": "markdown",
   "metadata": {},
   "source": [
    "> Q1    \n",
    "``` py\n",
    "    홍길동 씨의 과목별 점수는 다음과 같다. 홍길동 씨의 평균 점수를 구해 보자.\n",
    "\n",
    "    과목\t점수\n",
    "    국어\t80\n",
    "    영어\t75\n",
    "    수학\t55   \n",
    "```"
   ]
  },
  {
   "cell_type": "code",
   "execution_count": 6,
   "metadata": {},
   "outputs": [
    {
     "name": "stdout",
     "output_type": "stream",
     "text": [
      "평균은 70.0 입니다.\n"
     ]
    }
   ],
   "source": [
    "korean = 80 # 국어점수\n",
    "english = 75 # 영어점수\n",
    "math = 55 # 수학점수\n",
    "# 왼쪽 = 오른쪽\n",
    "# 오른쪽을 먼저 연산하며 왼쪽에 할당.\n",
    "\n",
    "total = korean + english + math # 총점\n",
    "\n",
    "avg = total/3 # 평균\n",
    "\n",
    "print(\"평균은\" , avg , \"입니다.\") # 평균 출력하기."
   ]
  },
  {
   "cell_type": "code",
   "execution_count": 16,
   "metadata": {},
   "outputs": [
    {
     "name": "stdout",
     "output_type": "stream",
     "text": [
      "<class 'list'>\n",
      "210\n",
      "평균은 70.0 입니다.\n"
     ]
    }
   ],
   "source": [
    "# 변수가 여러개일때는? ex> 과목이 100개 있다면?\n",
    "# 배열을 사용 []\n",
    "\n",
    "print(type([]))\n",
    "# 객체를 모를 땐 꼭! 확인하자.\n",
    "\n",
    "subjects = [80, 75, 55]\n",
    "subjects[0] # 인덱스는 0부터 시작. 위를 살펴보면 0번은 80, 1번은 75, 2번은 55\n",
    "total = subjects[0] + subjects[1] +subjects[2] ## 총점\n",
    "print(total) # 총점 출력\n",
    "\n",
    "subjects.__len__() # 배열의 길이(갯수)\n",
    "# __ : 스페셜 메소드. 매직 메소드. 객체 내에서만 호출할 수 있도록 만들어 놓은 개념.\n",
    "len(subjects)\n",
    "# 같은 의미의 함수 \n",
    "\n",
    "avg = total / len(subjects) # 평균. 길이 확인 함수로 갯수 확인하여 사용 가능\n",
    "print(\"평균은\" , avg , \"입니다.\") # 평균 출력하기.\n",
    "\n",
    "\n"
   ]
  },
  {
   "cell_type": "code",
   "execution_count": 26,
   "metadata": {},
   "outputs": [
    {
     "name": "stdout",
     "output_type": "stream",
     "text": [
      "평균은 73.0 입니다.\n"
     ]
    }
   ],
   "source": [
    "subjects = [80, 75, 55, 75, 80]\n",
    "# help(subjects) ::  객체에 대한 설명 출력\n",
    "total = sum(subjects) # 합계 계산 함수.\n",
    "# 배열을 사용하면 갯수가 늘어났을 때 아래 수식은 변경할 필요가 없다. \n",
    "# 배열에 값만 추가하면 가능하다.\n",
    "\n",
    "avg = total / len(subjects)\n",
    "print(\"평균은\" , avg , \"입니다.\") # 평균 출력하기.\n",
    "\n",
    "\n",
    "\n"
   ]
  },
  {
   "cell_type": "code",
   "execution_count": 33,
   "metadata": {},
   "outputs": [
    {
     "name": "stdout",
     "output_type": "stream",
     "text": [
      "{<class 'dict'>}\n",
      "평균은 70.0 입니다.\n"
     ]
    }
   ],
   "source": [
    "# 배열의 단점은 해당 숫자들의 값이 어떤 값인지 알 수 없다.\n",
    "# 국어 점수인지, 수학 점수인지, 영어 점수인지 알 수 없음.\n",
    "# {} 를 사용하면 알 수 있게 된다.\n",
    "subjects = {\"국어\":80, \"영어\":75, \"수학\":55} # {\"키\":값}\n",
    "print({type({})}) # {<class 'dict'>}\n",
    "\n",
    "total = subjects[\"국어\"] + subjects[\"영어\"] + subjects[\"수학\"]\n",
    "avg = total / len(subjects)\n",
    "print(\"평균은\" , avg , \"입니다.\") # 평균 출력하기."
   ]
  },
  {
   "cell_type": "code",
   "execution_count": 1,
   "metadata": {},
   "outputs": [
    {
     "name": "stdout",
     "output_type": "stream",
     "text": [
      "fourp 님의 총점은  255 입니다.\n",
      "fourp 님의 평균은  85.0 입니다.\n"
     ]
    }
   ],
   "source": [
    "# 사용자로부터 이름과 성적을 입력받아 총점과 평균을 출력하는 프로그램을 작성하시오.\n",
    "name = input(\"이름을 입력하세요.: \")\n",
    "# print(\"입력하신 이름은\", name, \"입니다.\")\n",
    "kor = input(\"국어점수를 입력하세요.:\")\n",
    "eng = input(\"영어점수를 입력하세요.:\")\n",
    "math = input(\"수학점수를 입력하세요.:\")\n",
    "\n",
    "total = int(kor) + int(eng) + int(math)\n",
    "# input은 str타입이기 때문에 int로 형변환 시켜준다.\n",
    "avg = total/3\n",
    "print(name,\"님의 총점은 \", total, \"입니다.\")\n",
    "print(name,\"님의 평균은 \", avg, \"입니다.\")\n",
    "# print(type(name)) :: str타입.\n",
    "# 파이썬에서의 print는 자바에서의 println과 동일하다."
   ]
  },
  {
   "cell_type": "markdown",
   "metadata": {},
   "source": [
    "> Q2   \n",
    "``` py\n",
    "    자연수 13이 홀수인지 짝수인지 판별할 수 있는 방법에 대해 말해 보자.\n",
    "```"
   ]
  },
  {
   "cell_type": "code",
   "execution_count": 8,
   "metadata": {},
   "outputs": [
    {
     "name": "stdout",
     "output_type": "stream",
     "text": [
      "홀수입니다.\n",
      "====================\n",
      "입력하신 584 은 짝수입니다.\n"
     ]
    }
   ],
   "source": [
    "# 짝수라면 끝자리 수가 02468\n",
    "# 홀수라면 끝자리 수가 13579\n",
    "\n",
    "'8' in '02468'\n",
    "\n",
    "if '7' in \"02468\":\n",
    "    print(\"짝수입니다.\")\n",
    "else:\n",
    "    print(\"홀수입니다.\")\n",
    "\n",
    "print(\"=\"*20)\n",
    "\n",
    "# 사용자로부터 정수를 입력받아 홀짝수를 판별하는 프로그램 작성\n",
    "number = input(\"숫자를 입력해주세요.\")\n",
    "if number[-1] in \"02468\": # 마지막 자리 에 02468이 들어간다면\n",
    "    print(\"입력하신\", number,\"은/는 짝수입니다.\")\n",
    "else:\n",
    "    print(\"입력하신\", number,\"은/는 홀수입니다.\")"
   ]
  },
  {
   "cell_type": "code",
   "execution_count": 10,
   "metadata": {},
   "outputs": [
    {
     "name": "stdout",
     "output_type": "stream",
     "text": [
      "입력하신 7 은/는 홀수입니다.\n"
     ]
    }
   ],
   "source": [
    "# 2n + 1, 2n -1 \n",
    "\n",
    "number = input(\"숫자를 입력해주세요.\")\n",
    "if int(number) % 2 == 0 :\n",
    "    print(\"입력하신\", number,\"은/는 짝수입니다.\")\n",
    "else:\n",
    "    print(\"입력하신\", number,\"은/는 홀수입니다.\")"
   ]
  },
  {
   "cell_type": "markdown",
   "metadata": {},
   "source": [
    "> Q3   \n",
    "``` py   \n",
    "    홍길동 씨의 주민등록번호는 881120-1068234이다.  \n",
    "    홍길동 씨의 주민등록번호를 연월일(YYYYMMDD) 부분과 그 뒤의 숫자 부분으로 나누어 출력해 보자.\n",
    "```"
   ]
  },
  {
   "cell_type": "code",
   "execution_count": 14,
   "metadata": {},
   "outputs": [
    {
     "name": "stdout",
     "output_type": "stream",
     "text": [
      "19881120\n"
     ]
    }
   ],
   "source": [
    "pin = \"881120-1068234\"\n",
    "yymmdd = \"19\" + pin[:5 + 1] # 6이라고 써도되지만 인덱스 번호가 5번이므로 5 + 1 로 표기함.\n",
    "\n",
    "print(yymmdd)\n"
   ]
  },
  {
   "cell_type": "markdown",
   "metadata": {},
   "source": [
    "> Q4   \n",
    "``` py   \n",
    "    주민등록번호 뒷자리의 맨 첫 번째 숫자는 성별을 나타낸다.    \n",
    "    주민등록번호에서 성별을 나타내는 숫자를 출력해 보자.   \n",
    "```"
   ]
  },
  {
   "cell_type": "code",
   "execution_count": 34,
   "metadata": {},
   "outputs": [
    {
     "name": "stdout",
     "output_type": "stream",
     "text": [
      "당신의 출생년도는 1988년 \n",
      "당신의 나이는35세\n",
      "남성입니다.\n"
     ]
    }
   ],
   "source": [
    "# 사용자로부터 주민번호를 입력받아 출생년도와 나이, 성별을 출력해주는 프로그램을 작성하시오.\n",
    "# pin = \"8811201068234\"\n",
    "\n",
    "# 입력받은 주민번호\n",
    "pin = input(\"주민등록번호를 포함해 입력해주세요.\")\n",
    "#주민번호 앞자리 추출\n",
    "yymmdd= pin[:5 + 1]\n",
    "#성별\n",
    "gender = pin[5 + 1]\n",
    "#출생년도\n",
    "year=\"\"\n",
    "#나이\n",
    "age = 0\n",
    "\n",
    "year = '19' + yymmdd[:1+1]\n",
    "if gender in \"12\":\n",
    "    year = '19' + yymmdd[:1+1]\n",
    "elif gender in \"34\":\n",
    "    year = '19' + yymmdd[:1+1]\n",
    "\n",
    "age = 2022 - int(year) + 1\n",
    "\n",
    "print(\"당신의 출생년도는 {}년 \".format(year))\n",
    "print(\"당신의 나이는{}세\".format(age))\n",
    "\n",
    "if int(gender) % 2 == 0:\n",
    "    print(\"여성입니다.\")\n",
    "else :\n",
    "    print(\"남성입니다.\")"
   ]
  },
  {
   "cell_type": "markdown",
   "metadata": {},
   "source": [
    "> Q5   \n",
    "``` py\n",
    "    다음과 같은 문자열 a:b:c:d가 있다.    \n",
    "    문자열의 replace 함수를 사용하여 a#b#c#d로 바꿔서 출력해 보자.   \n",
    "```"
   ]
  },
  {
   "cell_type": "code",
   "execution_count": 47,
   "metadata": {},
   "outputs": [
    {
     "name": "stdout",
     "output_type": "stream",
     "text": [
      "a:b:c:d\n",
      "a#b#c#d\n",
      "12/03/21\n",
      " JAVA programing\n",
      "abcd abcd abcd\n",
      "abcd\n",
      "a, b, c, d, "
     ]
    }
   ],
   "source": [
    "text = \"a:b:c:d\"\n",
    "print(text)\n",
    "\n",
    "print(\"a:b:c:d\".replace(\":\",\"#\"))\n",
    "\n",
    "tt = \"12:03:21\"\n",
    "print(tt.replace(\":\",\"/\"))\n",
    "\n",
    "te = \" Python programing\"\n",
    "print(te.replace(\"Python\",\"JAVA\"))\n",
    "\n",
    "strs = \"abcd\"\n",
    "print(strs, end = \" \")\n",
    "print(strs, end = \" \")\n",
    "print(strs, end = \"\\n\")\n",
    "print(strs)\n",
    "\n",
    "for c in strs:\n",
    "    print(c, end= \"- \")"
   ]
  },
  {
   "cell_type": "markdown",
   "metadata": {},
   "source": [
    "> Q6.   \n",
    "``` py   \n",
    "    [1, 3, 5, 4, 2]라는 리스트를 [5, 4, 3, 2, 1]로 만들어보자.   \n",
    "```"
   ]
  },
  {
   "cell_type": "code",
   "execution_count": 50,
   "metadata": {},
   "outputs": [
    {
     "name": "stdout",
     "output_type": "stream",
     "text": [
      "[1, 2, 3, 4, 5]\n",
      "[5, 4, 3, 2, 1]\n"
     ]
    }
   ],
   "source": [
    "li = [1, 3, 5, 4, 2]\n",
    "# li.reverse()\n",
    "# print(li)\n",
    "li.sort()\n",
    "print(li)\n",
    "\n",
    "li.reverse()\n",
    "print(li)"
   ]
  },
  {
   "cell_type": "code",
   "execution_count": 54,
   "metadata": {},
   "outputs": [
    {
     "name": "stdout",
     "output_type": "stream",
     "text": [
      "[20, 30, 40, 50, 95, 100]\n",
      "[100, 95, 50, 40, 30, 20]\n"
     ]
    },
    {
     "data": {
      "text/plain": [
       "True"
      ]
     },
     "execution_count": 54,
     "metadata": {},
     "output_type": "execute_result"
    }
   ],
   "source": [
    "li = [100, 30, 50, 40, 20, 95]\n",
    "\n",
    "# 점수를 입력했다고 가정했을때\n",
    "# 최저 점수와 최고 점수를 출력해보자.\n",
    "li.sort()\n",
    "print(li)\n",
    "\n",
    "li.reverse()\n",
    "print(li)\n",
    "\n",
    "max(li) == li[0]\n",
    "\n"
   ]
  },
  {
   "cell_type": "markdown",
   "metadata": {},
   "source": [
    "> Q7.   \n",
    "``` py   \n",
    "    ['Life', 'is', 'too', 'short'] 라는 리스트를 Life is too short라는 문자열로 만들어 출력해 보자.   \n",
    "```"
   ]
  },
  {
   "cell_type": "code",
   "execution_count": 62,
   "metadata": {},
   "outputs": [
    {
     "name": "stdout",
     "output_type": "stream",
     "text": [
      "\n",
      "Life \n",
      "Life is \n",
      "Life is too \n",
      "Life is too short \n",
      "Life is too short\n"
     ]
    }
   ],
   "source": [
    "old_text = ['Life', 'is', 'too', 'short']\n",
    "#new_text = old_text[0] +\" \"+ old_text[1] +\" \"+ old_text[2] +\" \"+ old_text[3]\n",
    "new_text = \"\"\n",
    "\n",
    "for s in old_text:\n",
    "    print(new_text)\n",
    "    new_text += s + \" \"\n",
    "\n",
    "print(new_text)\n",
    "\n",
    "new_text2 = \"{} {} {} {}\".format(old_text[0],old_text[1],old_text[2],old_text[3])\n",
    "print(new_text2)"
   ]
  },
  {
   "cell_type": "markdown",
   "metadata": {},
   "source": [
    "> Q8.   \n",
    "``` py   \n",
    "    (1,2,3)이라는 튜플에 4라는 값을 추가하여 (1,2,3,4)처럼 만들어 출력해 보자.   \n",
    "```"
   ]
  },
  {
   "cell_type": "code",
   "execution_count": 74,
   "metadata": {},
   "outputs": [
    {
     "name": "stdout",
     "output_type": "stream",
     "text": [
      "li = [100, 2, 3, 4]\n",
      "tu = (1, 2, 3)\n",
      "tu2 = (1, 2, 3, 4)\n"
     ]
    }
   ],
   "source": [
    "# 2차원 배열. 배열 안에 배열이 또 있는 것.\n",
    "# 하단의 배열에서 200의 값을 출력하려면?\n",
    "objects = ['a', 1, True, [100, 200]]\n",
    "objects[3][1]\n",
    "\n",
    "# 하단의 3차원 배열에서 y를 출력하려면?\n",
    "objects2 = ['a', 1, True, [100, ['x','y']]]\n",
    "objects2[3][1][1]\n",
    "\n",
    "\n",
    "li = [1, 2, 3] \n",
    "tu = (1, 2, 3) # 상수임. 할당 후 변경, 추가 불가능.\n",
    "\n",
    "li.append(4)\n",
    "\n",
    "li[0] = 100\n",
    "print(\"li =\", li)\n",
    "\n",
    "# tu[0] = 100\n",
    "print(\"tu =\", tu)\n",
    "type(tu)\n",
    "\n",
    "li2 = [1, 2, 3, 4]\n",
    "tu2 = tuple(li2)\n",
    "print(\"tu2 =\", tu2)"
   ]
  },
  {
   "cell_type": "markdown",
   "metadata": {},
   "source": [
    "> Q9.   \n",
    "``` py   \n",
    "    다음과 같은 딕셔너리 a가 있다. 다음 중 오류가 발생하는 경우는 어떤 경우인가?   \n",
    "    그리고 그 이유를 설명해 보자.   \n",
    "    >>> a = dict()   \n",
    "    >>> a   \n",
    "    {}   \n",
    "\n",
    "    다음 중 오류가 발생하는 경우를 고르고, 그 이유를 설명해 보자.   \n",
    "\n",
    "    1. a['name'] = 'python'   \n",
    "    2. a[('a',)] = 'python'   \n",
    "    3. a[[1]] = 'python'   \n",
    "    4. a[250] = 'python'   \n",
    "```"
   ]
  },
  {
   "cell_type": "code",
   "execution_count": 84,
   "metadata": {},
   "outputs": [
    {
     "name": "stdout",
     "output_type": "stream",
     "text": [
      "{'name': 'python'}\n",
      "{'name': 'python', ('a',): 'python'}\n",
      "{'name': 'python', ('a',): 'python', 250: 'python'}\n"
     ]
    }
   ],
   "source": [
    "# 키로 넣을 수 없는 것은? 이라는 문제.\n",
    "a = dict()\n",
    "#1.\n",
    "a['name'] = 'python'\n",
    "print(a)\n",
    "\n",
    "#2.\n",
    "a[('a',)] = 'python' #튜플\n",
    "print(a)\n",
    "\n",
    "#3.\n",
    "#a[[1]] = 'python' #리스트\n",
    "#print(a)\n",
    "\n",
    "#4.\n",
    "a[250] = 'python'\n",
    "print(a)\n",
    "\n",
    "# 딕셔너리 기본키는 유일해야한다.\n",
    "# => 3번이 불가능하다."
   ]
  },
  {
   "cell_type": "code",
   "execution_count": 85,
   "metadata": {},
   "outputs": [
    {
     "ename": "TypeError",
     "evalue": "'str' object does not support item assignment",
     "output_type": "error",
     "traceback": [
      "\u001b[1;31m---------------------------------------------------------------------------\u001b[0m",
      "\u001b[1;31mTypeError\u001b[0m                                 Traceback (most recent call last)",
      "Input \u001b[1;32mIn [85]\u001b[0m, in \u001b[0;36m<module>\u001b[1;34m\u001b[0m\n\u001b[0;32m      1\u001b[0m text \u001b[38;5;241m=\u001b[39m \u001b[38;5;124m\"\u001b[39m\u001b[38;5;124mPython\u001b[39m\u001b[38;5;124m\"\u001b[39m\n\u001b[1;32m----> 2\u001b[0m text[\u001b[38;5;241m0\u001b[39m] \u001b[38;5;241m=\u001b[39m \u001b[38;5;124m'\u001b[39m\u001b[38;5;124mJ\u001b[39m\u001b[38;5;124m'\u001b[39m\n\u001b[0;32m      4\u001b[0m \u001b[38;5;28mprint\u001b[39m(text)\n",
      "\u001b[1;31mTypeError\u001b[0m: 'str' object does not support item assignment"
     ]
    }
   ],
   "source": [
    "text = \"Python\"\n",
    "text[0] = 'J'\n",
    "\n",
    "print(text)\n",
    "\n",
    "# 불가능"
   ]
  },
  {
   "cell_type": "markdown",
   "metadata": {},
   "source": [
    "> Q10   \n",
    "``` py   \n",
    "    딕셔너리 a에서 'B'에 해당되는 값을 추출해 보자.   \n",
    "\n",
    "    >>> a = {'A':90, 'B':80, 'C':70}   \n",
    "    ※ 딕셔너리의 pop 함수를 사용해 보자.   \n",
    "```"
   ]
  },
  {
   "cell_type": "code",
   "execution_count": 90,
   "metadata": {},
   "outputs": [
    {
     "name": "stdout",
     "output_type": "stream",
     "text": [
      "{'A': 90, 'C': 70}\n"
     ]
    }
   ],
   "source": [
    "a = {'A':90, 'B':80, 'C':70}\n",
    "a.pop('B')\n",
    "print(a)\n",
    "\n",
    "# pop은 해당값을 꺼내서 버리라는 의미이다."
   ]
  },
  {
   "cell_type": "markdown",
   "metadata": {},
   "source": [
    "> Q11   \n",
    "``` py   \n",
    "    a 리스트에서 중복 숫자를 제거해 보자.   \n",
    "\n",
    "    >>> a = [1, 1, 1, 2, 2, 3, 3, 3, 4, 4, 5]    \n",
    "    ※ 집합 자료형의 요솟값이 중복될 수 없다는 특징을 사용해 보자.    \n",
    "```"
   ]
  },
  {
   "cell_type": "code",
   "execution_count": 92,
   "metadata": {},
   "outputs": [
    {
     "name": "stdout",
     "output_type": "stream",
     "text": [
      "{1, 2, 3}\n",
      "{1, 2, 3, 4, 5}\n"
     ]
    }
   ],
   "source": [
    "[1, 2, 3]\n",
    "(1, 2, 3)\n",
    "{'a':1, 'b':2, 'c':3}\n",
    "{1, 2, 3}\n",
    "\n",
    "\n",
    "se = {1, 2, 3, 3, 3, 1, 2}\n",
    "print(se)\n",
    "\n",
    "a = [1, 1, 1, 2, 2, 3, 3, 3, 4, 4, 5]\n",
    "a2 = set(a) # set으로 변환\n",
    "print(a2)\n",
    "\n"
   ]
  },
  {
   "cell_type": "markdown",
   "metadata": {},
   "source": [
    "> Q12   \n",
    "``` py   \n",
    "    파이썬은 다음처럼 동일한 값에 여러 개의 변수를 선언할 수 있다.    \n",
    "    다음과 같이 a, b 변수를 선언한 후 a의 두 번째 요솟값을 변경하면 b 값은 어떻게 될까?    \n",
    "    그리고 이런 결과가 오는 이유에 대해 설명해 보자.   \n",
    "\n",
    "    >>> a = b = [1, 2, 3]   \n",
    "    >>> a[1] = 4   \n",
    "    >>> print(b)   \n",
    "```"
   ]
  },
  {
   "cell_type": "code",
   "execution_count": 95,
   "metadata": {},
   "outputs": [
    {
     "name": "stdout",
     "output_type": "stream",
     "text": [
      "2642914825600\n",
      "2642914825600\n",
      "[1, 4, 3]\n",
      "[1, 4, 3]\n"
     ]
    }
   ],
   "source": [
    "a = b = [1, 2, 3]   \n",
    "\n",
    "print(id(a))\n",
    "print(id(b))\n",
    "# a와 b의 주소값이 같다.\n",
    "\n",
    "a[1] = 4   \n",
    "print(a) \n",
    "print(b) \n",
    "\n"
   ]
  },
  {
   "cell_type": "code",
   "execution_count": 96,
   "metadata": {},
   "outputs": [
    {
     "name": "stdout",
     "output_type": "stream",
     "text": [
      "2642916805888\n",
      "2642916801024\n",
      "[1, 4, 3]\n",
      "[1, 2, 3]\n"
     ]
    }
   ],
   "source": [
    "a = [1, 2, 3]\n",
    "b = [1, 2, 3]   \n",
    "\n",
    "print(id(a))\n",
    "print(id(b))\n",
    "# a와 b의 주소값이 다르다.\n",
    "\n",
    "a[1] = 4   \n",
    "print(a) \n",
    "print(b) \n",
    "\n"
   ]
  },
  {
   "cell_type": "markdown",
   "metadata": {},
   "source": []
  }
 ],
 "metadata": {
  "interpreter": {
   "hash": "4aa7a001941c8b447200068b1d71a3924cf04f02fe096f0aa27a7230a4a7f943"
  },
  "kernelspec": {
   "display_name": "Python 3.10.1 64-bit",
   "language": "python",
   "name": "python3"
  },
  "language_info": {
   "codemirror_mode": {
    "name": "ipython",
    "version": 3
   },
   "file_extension": ".py",
   "mimetype": "text/x-python",
   "name": "python",
   "nbconvert_exporter": "python",
   "pygments_lexer": "ipython3",
   "version": "3.10.1"
  },
  "orig_nbformat": 4
 },
 "nbformat": 4,
 "nbformat_minor": 2
}
