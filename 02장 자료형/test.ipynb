{
 "cells": [
  {
   "cell_type": "markdown",
   "metadata": {},
   "source": [
    "### 제목 : 자료형\n",
    "> print() 함수 활용하기"
   ]
  },
  {
   "cell_type": "code",
   "execution_count": 2,
   "metadata": {},
   "outputs": [
    {
     "name": "stdout",
     "output_type": "stream",
     "text": [
      "1\n"
     ]
    }
   ],
   "source": [
    "print(1)"
   ]
  },
  {
   "cell_type": "code",
   "execution_count": 5,
   "metadata": {},
   "outputs": [
    {
     "name": "stdout",
     "output_type": "stream",
     "text": [
      "2\n"
     ]
    }
   ],
   "source": [
    "print(2)"
   ]
  },
  {
   "cell_type": "code",
   "execution_count": 6,
   "metadata": {},
   "outputs": [
    {
     "name": "stdout",
     "output_type": "stream",
     "text": [
      "hi~!!\n"
     ]
    }
   ],
   "source": [
    "print(\"hi~!!\")"
   ]
  },
  {
   "cell_type": "code",
   "execution_count": 7,
   "metadata": {},
   "outputs": [
    {
     "name": "stdout",
     "output_type": "stream",
     "text": [
      "65\n",
      "<class 'int'>\n"
     ]
    },
    {
     "data": {
      "text/plain": [
       "7"
      ]
     },
     "execution_count": 7,
     "metadata": {},
     "output_type": "execute_result"
    }
   ],
   "source": [
    "## 65를 입력하여 출력해보자.\n",
    "## int i = 65; > java\n",
    "i = 65 ## i = int(65)라는 뜻.\n",
    "## 65를 i에 담는다가 아닌 65라는 객체가 생성되고\n",
    "## i라는 변수가 객체의 주소를 참조한다.\n",
    "\n",
    "print(i)\n",
    "ord('A') ## ord에는 String(문자)이 입력되야함.\n",
    "bin(i) ## 0b1000001 출력 됨. 아스키코드.\n",
    "## 타입을 어떻게 지정하느냐에 따라 다르게 출력 됨.\n",
    "print(type(i)) ## 무슨 타입인지 알아볼 때 쓰는 명령어.\n",
    "i.bit_length() ## 7이 출력됨. 7자리라는 의미.\n",
    "## 파이썬은 모든 게 참조 변수이다.\n",
    "\n",
    "\n"
   ]
  },
  {
   "cell_type": "code",
   "execution_count": 17,
   "metadata": {},
   "outputs": [
    {
     "name": "stdout",
     "output_type": "stream",
     "text": [
      "65\n",
      "66\n",
      "1\n",
      "31400000000.0\n",
      "0.0314\n"
     ]
    }
   ],
   "source": [
    "print(ord('A'))\n",
    "print(ord('B'))\n",
    "# 인코딩 : 문자열을 숫자로\n",
    "\n",
    "chr(65+1)\n",
    "# 디코딩 : 숫자를 문자열로\n",
    "# A(65)에 +1을 했으므로 B가 출력된다.\n",
    "\n",
    "a = 0\n",
    "b = 1\n",
    "c = a + b\n",
    "print(c) # 1 출력.\n",
    "\n",
    "bin(ord('a'))\n",
    "\n",
    "print(3.14E10) ## E = 10^10\n",
    "print(3.14E-2) ## E-2 = 10^-2\n"
   ]
  },
  {
   "cell_type": "code",
   "execution_count": 3,
   "metadata": {},
   "outputs": [
    {
     "name": "stdout",
     "output_type": "stream",
     "text": [
      "C:\\PythonDev\\name\n",
      "C/PythonDev/name\n"
     ]
    }
   ],
   "source": [
    "path = \"C:\\PythonDev\\\\name\"\n",
    "print(path)\n",
    "\n",
    "path2 = \"C/PythonDev/name\"\n",
    "print(path2)\n",
    "\n",
    "# path를 지정할때 \\를 사용할 때는 무조건 \\\\ 두 개씩 쓰거나\n",
    "# / 으로 사용한다.\n",
    "# 다른 이스케이프 문자로 인식할 수 있기때문. \\n : 내려쓰기 등"
   ]
  },
  {
   "cell_type": "code",
   "execution_count": 7,
   "metadata": {},
   "outputs": [
    {
     "data": {
      "text/plain": [
       "'❤'"
      ]
     },
     "execution_count": 7,
     "metadata": {},
     "output_type": "execute_result"
    }
   ],
   "source": [
    "\"❤\" * 3 # 파이썬에서의 *는 반복하라는 의미이다.\n",
    "# 즉, 위의 뜻은 ❤를 3번 반복하라는 의미임.\n",
    "ord('❤')   # 인코딩\n",
    "chr(10084) # 디코딩"
   ]
  },
  {
   "cell_type": "code",
   "execution_count": 23,
   "metadata": {},
   "outputs": [
    {
     "data": {
      "text/plain": [
       "5"
      ]
     },
     "execution_count": 23,
     "metadata": {},
     "output_type": "execute_result"
    }
   ],
   "source": [
    "# 인덱싱과 슬라이싱\n",
    "#       0123456789012345678901234567890123\n",
    "text = \"Life is too shoot, You need Python\"\n",
    "\n",
    "text[19]\n",
    "text[-1] # 제일 마지막 문자는 -1 자리임.\n",
    "text[-1] == text[33]\n",
    "\n",
    "# text[시작인덱스 : 끝인덱스] = 시작 < 끝\n",
    "text[0:3+1] # life를 출력하고 싶다면 [0:4]로 지정해야함.\n",
    "text[28:] # python을 출력하고 싶다면?\n",
    "text[:4] # 0~4까지 출력\n",
    "text[:] # 모두 출력\n",
    "\n",
    "li = [1, 2, 3, 4, 5]\n",
    "li[:3]\n",
    "li[-1]"
   ]
  },
  {
   "cell_type": "code",
   "execution_count": 32,
   "metadata": {},
   "outputs": [
    {
     "name": "stdout",
     "output_type": "stream",
     "text": [
      "영희님의 국어 점수는 95점 입니다.\n",
      "길동님의 국어 점수는 70점 입니다.\n"
     ]
    }
   ],
   "source": [
    "# 문자열 포매팅\n",
    "\n",
    "name = \"영희\"\n",
    "subject = \"국어\"\n",
    "score = 95\n",
    "\n",
    "# 영희님의 국어 점수는 95점 입니다.\n",
    "text = \"%s님의 %s 점수는 %d점 입니다.\" % (name, subject, score) \n",
    "\n",
    "print(text)\n",
    "\n",
    "\n"
   ]
  },
  {
   "cell_type": "code",
   "execution_count": 34,
   "metadata": {},
   "outputs": [
    {
     "name": "stdout",
     "output_type": "stream",
     "text": [
      "영희님의 국어 점수는 95점 입니다.\n",
      "철수님의 국어 점수는 80점 입니다.\n",
      "길동님의 국어 점수는 70점 입니다.\n"
     ]
    }
   ],
   "source": [
    "name = [\"영희\", \"철수\", \"길동\"]\n",
    "subject = \"국어\"\n",
    "score = [95, 80, 70]\n",
    "\n",
    "for n in range(len(name)):\n",
    "    text = \"%s님의 %s 점수는 %d점 입니다.\" % (name[n], subject, score[n])\n",
    "    print(text)"
   ]
  },
  {
   "cell_type": "code",
   "execution_count": 36,
   "metadata": {},
   "outputs": [
    {
     "name": "stdout",
     "output_type": "stream",
     "text": [
      "영희님의 수학 점수는 95점 입니다.\n",
      "영희님의 영희 점수는 영희점 입니다.\n"
     ]
    }
   ],
   "source": [
    "# \"문자열\".format()\n",
    "name = \"영희\"\n",
    "sub = \"수학\"\n",
    "score = 95\n",
    "\n",
    "text = \"{}님의 {} 점수는 {}점 입니다.\" .format(name, sub, score)\n",
    "print(text)\n",
    "\n",
    "#format() 함수에 있는 것도 배열로 사용가능함.\n",
    "text1 = \"{0}님의 {0} 점수는 {0}점 입니다.\" .format(name, sub, score)\n",
    "print(text1)\n"
   ]
  },
  {
   "cell_type": "code",
   "execution_count": 37,
   "metadata": {},
   "outputs": [
    {
     "name": "stdout",
     "output_type": "stream",
     "text": [
      "영희님의 수학 점수는 95점 입니다.\n"
     ]
    }
   ],
   "source": [
    "\n",
    "# 새로운 문법.\n",
    "# 사용은 편하지만, 해당 문법을 사용할 경우 새로 나온 버전이기때문에\n",
    "# 기존에 사용하던 것들도 모두 수정하거나, 안될수도 있기때문에\n",
    "# 사용에 유의하자.\n",
    "name = \"영희\"\n",
    "sub = \"수학\"\n",
    "score = 95\n",
    "\n",
    "text = f\"{name}님의 {sub} 점수는 {score}점 입니다.\"\n",
    "print(text)"
   ]
  }
 ],
 "metadata": {
  "interpreter": {
   "hash": "f98b4f0f45a378915d9cd482e8c3894face2be32070fe578e3b111dc55a597f0"
  },
  "kernelspec": {
   "display_name": "Python 3.10.1 64-bit",
   "language": "python",
   "name": "python3"
  },
  "language_info": {
   "codemirror_mode": {
    "name": "ipython",
    "version": 3
   },
   "file_extension": ".py",
   "mimetype": "text/x-python",
   "name": "python",
   "nbconvert_exporter": "python",
   "pygments_lexer": "ipython3",
   "version": "3.10.1"
  },
  "orig_nbformat": 4
 },
 "nbformat": 4,
 "nbformat_minor": 2
}
