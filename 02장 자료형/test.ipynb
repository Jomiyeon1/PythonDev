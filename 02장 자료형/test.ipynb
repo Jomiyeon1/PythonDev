{
 "cells": [
  {
   "cell_type": "markdown",
   "metadata": {},
   "source": [
    "### 제목 : 자료형\n",
    "> print() 함수 활용하기"
   ]
  },
  {
   "cell_type": "code",
   "execution_count": 2,
   "metadata": {},
   "outputs": [
    {
     "name": "stdout",
     "output_type": "stream",
     "text": [
      "1\n"
     ]
    }
   ],
   "source": [
    "print(1)"
   ]
  },
  {
   "cell_type": "code",
   "execution_count": 5,
   "metadata": {},
   "outputs": [
    {
     "name": "stdout",
     "output_type": "stream",
     "text": [
      "2\n"
     ]
    }
   ],
   "source": [
    "print(2)"
   ]
  },
  {
   "cell_type": "code",
   "execution_count": 6,
   "metadata": {},
   "outputs": [
    {
     "name": "stdout",
     "output_type": "stream",
     "text": [
      "hi~!!\n"
     ]
    }
   ],
   "source": [
    "print(\"hi~!!\")"
   ]
  },
  {
   "cell_type": "code",
   "execution_count": 7,
   "metadata": {},
   "outputs": [
    {
     "name": "stdout",
     "output_type": "stream",
     "text": [
      "65\n",
      "<class 'int'>\n"
     ]
    },
    {
     "data": {
      "text/plain": [
       "7"
      ]
     },
     "execution_count": 7,
     "metadata": {},
     "output_type": "execute_result"
    }
   ],
   "source": [
    "## 65를 입력하여 출력해보자.\n",
    "## int i = 65; > java\n",
    "i = 65 ## i = int(65)라는 뜻.\n",
    "## 65를 i에 담는다가 아닌 65라는 객체가 생성되고\n",
    "## i라는 변수가 객체의 주소를 참조한다.\n",
    "\n",
    "print(i)\n",
    "ord('A') ## ord에는 String(문자)이 입력되야함.\n",
    "bin(i) ## 0b1000001 출력 됨. 아스키코드.\n",
    "## 타입을 어떻게 지정하느냐에 따라 다르게 출력 됨.\n",
    "print(type(i)) ## 무슨 타입인지 알아볼 때 쓰는 명령어.\n",
    "i.bit_length() ## 7이 출력됨. 7자리라는 의미.\n",
    "## 파이썬은 모든 게 참조 변수이다.\n",
    "\n",
    "\n"
   ]
  },
  {
   "cell_type": "code",
   "execution_count": 17,
   "metadata": {},
   "outputs": [
    {
     "name": "stdout",
     "output_type": "stream",
     "text": [
      "65\n",
      "66\n",
      "1\n",
      "31400000000.0\n",
      "0.0314\n"
     ]
    }
   ],
   "source": [
    "print(ord('A'))\n",
    "print(ord('B'))\n",
    "# 인코딩 : 문자열을 숫자로\n",
    "\n",
    "chr(65+1)\n",
    "# 디코딩 : 숫자를 문자열로\n",
    "# A(65)에 +1을 했으므로 B가 출력된다.\n",
    "\n",
    "a = 0\n",
    "b = 1\n",
    "c = a + b\n",
    "print(c) # 1 출력.\n",
    "\n",
    "bin(ord('a'))\n",
    "\n",
    "print(3.14E10) ## E = 10^10\n",
    "print(3.14E-2) ## E-2 = 10^-2\n"
   ]
  }
 ],
 "metadata": {
  "interpreter": {
   "hash": "f98b4f0f45a378915d9cd482e8c3894face2be32070fe578e3b111dc55a597f0"
  },
  "kernelspec": {
   "display_name": "Python 3.10.1 64-bit",
   "language": "python",
   "name": "python3"
  },
  "language_info": {
   "codemirror_mode": {
    "name": "ipython",
    "version": 3
   },
   "file_extension": ".py",
   "mimetype": "text/x-python",
   "name": "python",
   "nbconvert_exporter": "python",
   "pygments_lexer": "ipython3",
   "version": "3.10.1"
  },
  "orig_nbformat": 4
 },
 "nbformat": 4,
 "nbformat_minor": 2
}
